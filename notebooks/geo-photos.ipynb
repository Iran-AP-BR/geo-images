{
 "cells": [
  {
   "cell_type": "code",
   "execution_count": 1,
   "metadata": {},
   "outputs": [],
   "source": [
    "from PIL import Image, JpegImagePlugin\n",
    "from PIL.ExifTags import TAGS\n",
    "from pillow_heif import register_heif_opener\n",
    "import piexif\n",
    "import pyproj\n",
    "from pathlib import Path\n",
    "import os\n",
    "from simplekml import Kml, Style, Color\n",
    "import requests\n",
    "\n",
    "register_heif_opener()"
   ]
  },
  {
   "cell_type": "markdown",
   "metadata": {},
   "source": [
    "### Função get_image_aspect_ratio(caminho | Image)\n",
    "> Identifica a relação de aspecto da imagem"
   ]
  },
  {
   "cell_type": "code",
   "execution_count": 2,
   "metadata": {},
   "outputs": [],
   "source": [
    "def get_image_aspect_ratio(img_path):   \n",
    "    image = Image.open(img_path) if type(img_path) == str else img_path\n",
    "    image_aspect_ratio = image.width/image.height\n",
    "    \n",
    "    return image_aspect_ratio"
   ]
  },
  {
   "cell_type": "markdown",
   "metadata": {},
   "source": [
    "### Função copy_image(caminho_de_origem, caminho_destino, format_da_imagem='jpeg', extensão_do_arquivo='jpg')\n",
    "> Copia a imagem para a pasta de destino e converte para o formato indicado"
   ]
  },
  {
   "cell_type": "code",
   "execution_count": 3,
   "metadata": {},
   "outputs": [],
   "source": [
    "def copy_image(img_path, target_path, image_format='JPEG', image_extension='jpg'):\n",
    "    output_image_filename = f'{Path(img_path).stem}.{image_extension}'\n",
    "    target_file = f'{target_path}/{output_image_filename}'\n",
    "    image = Image.open(img_path)\n",
    "    image.save(target_file, image_format, exif=image.info.get('exif'))"
   ]
  },
  {
   "cell_type": "markdown",
   "metadata": {},
   "source": [
    "### Função converter(coordenadas, sinal= 1 ou -1) \n",
    "> Converte as coordenadas extraídas dos metadados da foto para o formato graus decimais "
   ]
  },
  {
   "cell_type": "code",
   "execution_count": 4,
   "metadata": {},
   "outputs": [],
   "source": [
    "def converter(coord, signal=1):\n",
    "    graus = coord[0][0]/coord[0][1]\n",
    "    minutos = coord[1][0]/coord[1][1]\n",
    "    segundos = coord[2][0]/coord[2][1]\n",
    "    return (graus + minutos/60 + segundos/3600) * signal"
   ]
  },
  {
   "cell_type": "markdown",
   "metadata": {},
   "source": [
    "### Função exif_to_tag(exif_dict)\n",
    "> Converte o dicionário exif em um dicionário com tags exif"
   ]
  },
  {
   "cell_type": "code",
   "execution_count": 5,
   "metadata": {},
   "outputs": [],
   "source": [
    "def exif_to_tag(exif_dict):\n",
    "    codec = 'ISO-8859-1'\n",
    "    exif_tag_dict = {}\n",
    "    thumbnail = exif_dict.pop('thumbnail')\n",
    "    exif_tag_dict['thumbnail'] = thumbnail.decode(codec) if thumbnail else None\n",
    "\n",
    "    for ifd in exif_dict:\n",
    "        exif_tag_dict[ifd] = {}\n",
    "        for tag in exif_dict[ifd]:\n",
    "            try:\n",
    "                element = exif_dict[ifd][tag].decode(codec)\n",
    "\n",
    "            except AttributeError:\n",
    "                element = exif_dict[ifd][tag]\n",
    "\n",
    "            exif_tag_dict[ifd][piexif.TAGS[ifd][tag][\"name\"]] = element\n",
    "\n",
    "    return exif_tag_dict"
   ]
  },
  {
   "cell_type": "markdown",
   "metadata": {},
   "source": [
    "### Função extract_metadata(img_path | Image)\n",
    "> Extrai metadados da foto"
   ]
  },
  {
   "cell_type": "code",
   "execution_count": 6,
   "metadata": {},
   "outputs": [],
   "source": [
    "def extract_metadata(img_path):\n",
    "    image = Image.open(img_path) if type(img_path) == str else img_path\n",
    "    exif_dict = piexif.load(image.info.get('exif'))\n",
    "    return exif_to_tag(exif_dict)"
   ]
  },
  {
   "cell_type": "markdown",
   "metadata": {},
   "source": [
    "### Função extract_gps(exif_tag_dict)\n",
    "> Extrai informações de GPS registradas nos metadados da foto"
   ]
  },
  {
   "cell_type": "code",
   "execution_count": 7,
   "metadata": {},
   "outputs": [],
   "source": [
    "def extract_gps(exif_tag_dict):\n",
    "    gps = exif_tag_dict['GPS']  \n",
    "    latitude = converter(gps['GPSLatitude'], 1 if gps['GPSLatitudeRef'].upper() == 'N' else -1)\n",
    "    longitude = converter(gps['GPSLongitude'], -1 if gps['GPSLongitudeRef'].upper() == 'W' else 1)\n",
    "    altitude = gps['GPSAltitude'][0]/gps['GPSAltitude'][1]\n",
    "    return round(longitude, 6), round(latitude, 6), round(altitude, 3)"
   ]
  },
  {
   "cell_type": "markdown",
   "metadata": {},
   "source": [
    "### Função extract_datatime(exif_tag_dict)\n",
    "> Extrai informações de data e hora registradas nos metadados da foto"
   ]
  },
  {
   "cell_type": "code",
   "execution_count": 8,
   "metadata": {},
   "outputs": [],
   "source": [
    "def extract_datatime(exif_tag_dict):\n",
    "    return exif_tag_dict['Exif']['DateTimeOriginal']"
   ]
  },
  {
   "cell_type": "markdown",
   "metadata": {},
   "source": [
    "### Função utm(coordinates)\n",
    "> Converte coordenadas geográficas em coordenadas UTM. Nesse caso a altitude é ignorada."
   ]
  },
  {
   "cell_type": "code",
   "execution_count": 9,
   "metadata": {},
   "outputs": [],
   "source": [
    "def utm(coordinates):\n",
    "\n",
    "    _projections = {}\n",
    "\n",
    "    def zone(coordinates):\n",
    "        if 56 <= coordinates[1] < 64 and 3 <= coordinates[0] < 12:\n",
    "            return 32\n",
    "        if 72 <= coordinates[1] < 84 and 0 <= coordinates[0] < 42:\n",
    "            if coordinates[0] < 9:\n",
    "                return 31\n",
    "            elif coordinates[0] < 21:\n",
    "                return 33\n",
    "            elif coordinates[0] < 33:\n",
    "                return 35\n",
    "            return 37\n",
    "        return int((coordinates[0] + 180) / 6) + 1\n",
    "\n",
    "\n",
    "    def letter(coordinates):\n",
    "        return 'CDEFGHJKLMNPQRSTUVWXX'[int((coordinates[1] + 80) / 8)]\n",
    "\n",
    "\n",
    "    z = zone(coordinates)\n",
    "    l = letter(coordinates)\n",
    "    if z not in _projections:\n",
    "        _projections[z] = pyproj.Proj(proj='utm', zone=z, ellps='aust_SA')\n",
    "\n",
    "    x, y = _projections[z](coordinates[0], coordinates[1])\n",
    "    if y < 0:\n",
    "        y += 10000000\n",
    "    return z, l, round(x, 2), round(y, 2)"
   ]
  },
  {
   "cell_type": "markdown",
   "metadata": {},
   "source": [
    "### Função get_files(base_path, recursive=False)\n",
    "> Coleta os arquivos de image presentes nos diretórios indicados em base_path (str ou list). També faz busca recursiva se recursive=True"
   ]
  },
  {
   "cell_type": "code",
   "execution_count": 10,
   "metadata": {},
   "outputs": [],
   "source": [
    "def get_files(base_path, recursive=False):\n",
    "    files = []\n",
    "    if type(base_path) is list:\n",
    "        for bp in base_path:\n",
    "            files += get_files(bp, recursive=recursive)\n",
    "    else:\n",
    "        for filename in os.listdir(base_path):\n",
    "            path = os.path.join(base_path, filename)\n",
    "            if os.path.isfile(path):\n",
    "                if Path(path).suffix in ['.jpg', '.jpeg', '.heic']:\n",
    "                    files += [path]\n",
    "            elif recursive:\n",
    "                files += get_files(path, recursive=recursive)\n",
    "            \n",
    "    return files"
   ]
  },
  {
   "cell_type": "markdown",
   "metadata": {},
   "source": [
    "### Função fetch_data(image_base_paths, recursive=False, verbose=False)\n",
    "> Extrai metadados dados dos arquivo das images indicadas e retorna os dados em formato dicionário com o nome do arquivo (sem extensão) como chave (point_name)."
   ]
  },
  {
   "cell_type": "code",
   "execution_count": 11,
   "metadata": {},
   "outputs": [],
   "source": [
    "def fetch_data(image_base_paths, recursive=False, verbose=False):\n",
    "    data = {}\n",
    "    paths = get_files(image_base_paths, recursive=recursive)\n",
    "    for p, file in enumerate(paths):\n",
    "        \n",
    "        if verbose:\n",
    "            print('Fetching data ........... ', f'{round(p/len(paths)*100, 2)}%', end='\\r')\n",
    "        \n",
    "        point_name = Path(file).stem\n",
    "        metadata = extract_metadata(file)\n",
    "        geo_coord = extract_gps(metadata)\n",
    "        date_time = extract_datatime(metadata)\n",
    "        utm_coord = utm(geo_coord)\n",
    "        image_aspect_ratio = get_image_aspect_ratio(file)\n",
    "        \n",
    "        item = {}        \n",
    "        item['file_path'] = file\n",
    "        item['longitude'] = geo_coord[0]\n",
    "        item['latitude'] = geo_coord[1]\n",
    "        item['altitude'] = geo_coord[2]\n",
    "        item['utm_zone'] = utm_coord[0]\n",
    "        item['utm_letter'] = utm_coord[1]\n",
    "        item['utm_x'] = utm_coord[2]\n",
    "        item['utm_y'] = utm_coord[3]\n",
    "        item['image_aspect_ratio'] = image_aspect_ratio\n",
    "        item['date_time'] = date_time\n",
    "        \n",
    "        data[point_name] = item\n",
    "        \n",
    "    if verbose:\n",
    "        print('Fetching data ........... ', 'Concluído!')\n",
    "    \n",
    "    return data\n"
   ]
  },
  {
   "cell_type": "markdown",
   "metadata": {},
   "source": [
    "### Função create_kml(kml_filename, image_base_paths, recursive=False, output_folder='.', images_folder_name = 'images', verbose=False)\n",
    "> Cria um arquivo kml com base nas images indicadas em image_base_paths e grava o arquivo em output_folder junto com o diretório images_folder_name, no qual as imagens convertidas para o formato padrão são copiadas."
   ]
  },
  {
   "cell_type": "code",
   "execution_count": 12,
   "metadata": {},
   "outputs": [],
   "source": [
    "def create_kml(kml_filename, image_base_paths, recursive=False, output_folder='.', images_folder_name = 'images', verbose=False):\n",
    "    kml_output_path = f'{output_folder}/{kml_filename}'\n",
    "    output_images_folder = f'{output_folder}/{images_folder_name}'\n",
    "\n",
    "    Path(output_images_folder).mkdir(parents=True, exist_ok=True)\n",
    "    if any(Path(output_images_folder).iterdir()):\n",
    "        raise Exception(f'Diretório \"{output_images_folder}\" deve estar vazio!')\n",
    "\n",
    "    kml = Kml()\n",
    "    style = Style()\n",
    "\n",
    "    icon_href = 'http://maps.google.com/mapfiles/kml/paddle/purple-circle.png'\n",
    "    if requests.get(icon_href).status_code == 200:\n",
    "        style.iconstyle.icon.href = icon_href\n",
    "\n",
    "    metadata = fetch_data(image_base_paths=image_base_paths, recursive=recursive, verbose=verbose)\n",
    "\n",
    "    for p, point_name in enumerate(metadata):\n",
    "        \n",
    "        file_path = metadata[point_name]['file_path']\n",
    "        if file_path.startswith(f'{output_images_folder}/'):\n",
    "            raise Exception('Arquivo de origem não pode estar no diretório destino!')\n",
    "        \n",
    "        if verbose:\n",
    "            print('Gerando kml ........... ', f'{round(p/len(metadata.keys())*100, 2)}%', end='\\r')\n",
    "        \n",
    "        geo_coord = (metadata[point_name]['longitude'], metadata[point_name]['latitude'], metadata[point_name]['altitude'])\n",
    "        output_image_filename = f'{Path(file_path).stem}.jpg'\n",
    "        image_aspect_ratio = metadata[point_name]['image_aspect_ratio']\n",
    "        date_time = metadata[point_name]['date_time']\n",
    "        \n",
    "        copy_image(file_path, output_images_folder)\n",
    "\n",
    "        point = kml.newpoint(name=f'{point_name}', coords=[geo_coord])\n",
    "        point.style = style\n",
    "        if image_aspect_ratio > 1:\n",
    "            image_width = 1200\n",
    "            image_height = round(image_width/image_aspect_ratio)\n",
    "        else:\n",
    "            image_height = 1200\n",
    "            image_width = round(image_height*image_aspect_ratio)\n",
    "\n",
    "        point.description = f'''<h2 style=\"background-color: #7700bb; color: #ffffff\">\n",
    "                                    Data/Hora: {date_time}\n",
    "                                </h2>\n",
    "                                <img \n",
    "                                  src=\"{images_folder_name}/{output_image_filename}\" \n",
    "                                  alt=\"picture\" \n",
    "                                  width=\"{image_width}\" \n",
    "                                  height=\"{image_height}\" \n",
    "                                  align=\"left\" />;'''\n",
    "\n",
    "    kml.save(kml_output_path)\n",
    "    if verbose:\n",
    "        print('Gerando kml ........... ', 'Concluído!')\n"
   ]
  },
  {
   "cell_type": "markdown",
   "metadata": {},
   "source": [
    "### Teste de execução da função fetch_data"
   ]
  },
  {
   "cell_type": "code",
   "execution_count": 13,
   "metadata": {},
   "outputs": [
    {
     "name": "stdout",
     "output_type": "stream",
     "text": [
      "Fetching data ...........  Concluído!\n"
     ]
    },
    {
     "data": {
      "text/plain": [
       "{'20220908_121956119_iOS': {'file_path': './tests/samples/20220908_121956119_iOS.heic',\n",
       "  'longitude': -51.172639,\n",
       "  'latitude': -0.065997,\n",
       "  'altitude': 12.856,\n",
       "  'utm_zone': 22,\n",
       "  'utm_letter': 'M',\n",
       "  'utm_x': 480789.52,\n",
       "  'utm_y': 9992705.29,\n",
       "  'image_aspect_ratio': 0.75,\n",
       "  'date_time': '2022:09:08 09:19:56'},\n",
       " '20220908_122324201_iOS': {'file_path': './tests/samples/20220908_122324201_iOS.heic',\n",
       "  'longitude': -51.173469,\n",
       "  'latitude': -0.065806,\n",
       "  'altitude': 12.782,\n",
       "  'utm_zone': 22,\n",
       "  'utm_letter': 'M',\n",
       "  'utm_x': 480697.16,\n",
       "  'utm_y': 9992726.4,\n",
       "  'image_aspect_ratio': 0.75,\n",
       "  'date_time': '2022:09:08 09:23:24'},\n",
       " '20220908_122215195_iOS': {'file_path': './tests/samples/20220908_122215195_iOS.heic',\n",
       "  'longitude': -51.173064,\n",
       "  'latitude': -0.065808,\n",
       "  'altitude': 11.736,\n",
       "  'utm_zone': 22,\n",
       "  'utm_letter': 'M',\n",
       "  'utm_x': 480742.22,\n",
       "  'utm_y': 9992726.18,\n",
       "  'image_aspect_ratio': 0.75,\n",
       "  'date_time': '2022:09:08 09:22:15'},\n",
       " '20220908_122055920_iOS': {'file_path': './tests/samples/20220908_122055920_iOS.heic',\n",
       "  'longitude': -51.172764,\n",
       "  'latitude': -0.065958,\n",
       "  'altitude': 12.769,\n",
       "  'utm_zone': 22,\n",
       "  'utm_letter': 'M',\n",
       "  'utm_x': 480775.61,\n",
       "  'utm_y': 9992709.6,\n",
       "  'image_aspect_ratio': 0.75,\n",
       "  'date_time': '2022:09:08 09:20:56'},\n",
       " 'IMG_20220822_165059997': {'file_path': './tests/samples/sub_folder/IMG_20220822_165059997.jpg',\n",
       "  'longitude': -51.179625,\n",
       "  'latitude': -0.057202,\n",
       "  'altitude': 11.029,\n",
       "  'utm_zone': 22,\n",
       "  'utm_letter': 'M',\n",
       "  'utm_x': 480012.14,\n",
       "  'utm_y': 9993677.41,\n",
       "  'image_aspect_ratio': 1.3333333333333333,\n",
       "  'date_time': '2022:08:22 16:51:00'},\n",
       " 'IMG_20220822_165113359': {'file_path': './tests/samples/sub_folder/IMG_20220822_165113359.jpg',\n",
       "  'longitude': -51.179625,\n",
       "  'latitude': -0.057202,\n",
       "  'altitude': 11.029,\n",
       "  'utm_zone': 22,\n",
       "  'utm_letter': 'M',\n",
       "  'utm_x': 480012.14,\n",
       "  'utm_y': 9993677.41,\n",
       "  'image_aspect_ratio': 1.3333333333333333,\n",
       "  'date_time': '2022:08:22 16:51:13'},\n",
       " 'IMG_20220822_165521347': {'file_path': './tests/samples/sub_folder/IMG_20220822_165521347.jpg',\n",
       "  'longitude': -51.179988,\n",
       "  'latitude': -0.056732,\n",
       "  'altitude': 16.971,\n",
       "  'utm_zone': 22,\n",
       "  'utm_letter': 'M',\n",
       "  'utm_x': 479971.75,\n",
       "  'utm_y': 9993729.36,\n",
       "  'image_aspect_ratio': 1.3333333333333333,\n",
       "  'date_time': '2022:08:22 16:55:21'},\n",
       " 'IMG_20220822_165002724': {'file_path': './tests/samples/sub_folder/IMG_20220822_165002724.jpg',\n",
       "  'longitude': -51.180064,\n",
       "  'latitude': -0.057105,\n",
       "  'altitude': 19.707,\n",
       "  'utm_zone': 22,\n",
       "  'utm_letter': 'M',\n",
       "  'utm_x': 479963.29,\n",
       "  'utm_y': 9993688.13,\n",
       "  'image_aspect_ratio': 1.3333333333333333,\n",
       "  'date_time': '2022:08:22 16:50:02'},\n",
       " 'IMG_20220822_165505269': {'file_path': './tests/samples/sub_folder/IMG_20220822_165505269.jpg',\n",
       "  'longitude': -51.179988,\n",
       "  'latitude': -0.056732,\n",
       "  'altitude': 16.971,\n",
       "  'utm_zone': 22,\n",
       "  'utm_letter': 'M',\n",
       "  'utm_x': 479971.75,\n",
       "  'utm_y': 9993729.36,\n",
       "  'image_aspect_ratio': 1.3333333333333333,\n",
       "  'date_time': '2022:08:22 16:55:05'},\n",
       " 'IMG_20220822_165032569': {'file_path': './tests/samples/sub_folder/IMG_20220822_165032569.jpg',\n",
       "  'longitude': -51.180064,\n",
       "  'latitude': -0.057105,\n",
       "  'altitude': 19.707,\n",
       "  'utm_zone': 22,\n",
       "  'utm_letter': 'M',\n",
       "  'utm_x': 479963.29,\n",
       "  'utm_y': 9993688.13,\n",
       "  'image_aspect_ratio': 1.3333333333333333,\n",
       "  'date_time': '2022:08:22 16:50:32'},\n",
       " 'IMG_20220822_165631382': {'file_path': './tests/samples/sub_folder/IMG_20220822_165631382.jpg',\n",
       "  'longitude': -51.179567,\n",
       "  'latitude': -0.056722,\n",
       "  'altitude': 15.814,\n",
       "  'utm_zone': 22,\n",
       "  'utm_letter': 'M',\n",
       "  'utm_x': 480018.59,\n",
       "  'utm_y': 9993730.46,\n",
       "  'image_aspect_ratio': 1.3333333333333333,\n",
       "  'date_time': '2022:08:22 16:56:31'},\n",
       " 'IMG_20220822_165509719': {'file_path': './tests/samples/sub_folder/IMG_20220822_165509719.jpg',\n",
       "  'longitude': -51.179988,\n",
       "  'latitude': -0.056732,\n",
       "  'altitude': 16.971,\n",
       "  'utm_zone': 22,\n",
       "  'utm_letter': 'M',\n",
       "  'utm_x': 479971.75,\n",
       "  'utm_y': 9993729.36,\n",
       "  'image_aspect_ratio': 1.3333333333333333,\n",
       "  'date_time': '2022:08:22 16:55:09'},\n",
       " 'IMG_20220822_165610779': {'file_path': './tests/samples/sub_folder/IMG_20220822_165610779.jpg',\n",
       "  'longitude': -51.179528,\n",
       "  'latitude': -0.056849,\n",
       "  'altitude': 5.685,\n",
       "  'utm_zone': 22,\n",
       "  'utm_letter': 'M',\n",
       "  'utm_x': 480022.93,\n",
       "  'utm_y': 9993716.42,\n",
       "  'image_aspect_ratio': 1.3333333333333333,\n",
       "  'date_time': '2022:08:22 16:56:10'},\n",
       " 'IMG_20220822_165459063': {'file_path': './tests/samples/sub_folder/IMG_20220822_165459063.jpg',\n",
       "  'longitude': -51.179988,\n",
       "  'latitude': -0.056732,\n",
       "  'altitude': 16.971,\n",
       "  'utm_zone': 22,\n",
       "  'utm_letter': 'M',\n",
       "  'utm_x': 479971.75,\n",
       "  'utm_y': 9993729.36,\n",
       "  'image_aspect_ratio': 1.3333333333333333,\n",
       "  'date_time': '2022:08:22 16:54:59'},\n",
       " 'IMG_20220822_165008080': {'file_path': './tests/samples/sub_folder/IMG_20220822_165008080.jpg',\n",
       "  'longitude': -51.180064,\n",
       "  'latitude': -0.057105,\n",
       "  'altitude': 19.707,\n",
       "  'utm_zone': 22,\n",
       "  'utm_letter': 'M',\n",
       "  'utm_x': 479963.29,\n",
       "  'utm_y': 9993688.13,\n",
       "  'image_aspect_ratio': 1.3333333333333333,\n",
       "  'date_time': '2022:08:22 16:50:08'},\n",
       " '20220908_122344951_iOS': {'file_path': './tests/samples/20220908_122344951_iOS.heic',\n",
       "  'longitude': -51.173533,\n",
       "  'latitude': -0.065769,\n",
       "  'altitude': 17.489,\n",
       "  'utm_zone': 22,\n",
       "  'utm_letter': 'M',\n",
       "  'utm_x': 480690.04,\n",
       "  'utm_y': 9992730.49,\n",
       "  'image_aspect_ratio': 0.75,\n",
       "  'date_time': '2022:09:08 09:23:45'},\n",
       " '20220908_122303016_iOS': {'file_path': './tests/samples/20220908_122303016_iOS.heic',\n",
       "  'longitude': -51.17345,\n",
       "  'latitude': -0.065797,\n",
       "  'altitude': 12.065,\n",
       "  'utm_zone': 22,\n",
       "  'utm_letter': 'M',\n",
       "  'utm_x': 480699.27,\n",
       "  'utm_y': 9992727.4,\n",
       "  'image_aspect_ratio': 0.75,\n",
       "  'date_time': '2022:09:08 09:23:03'}}"
      ]
     },
     "execution_count": 13,
     "metadata": {},
     "output_type": "execute_result"
    }
   ],
   "source": [
    "fetch_data(image_base_paths=['./tests/samples'], recursive=True, verbose=True)"
   ]
  },
  {
   "cell_type": "markdown",
   "metadata": {},
   "source": [
    "### Teste de execução da função create_kml"
   ]
  },
  {
   "cell_type": "code",
   "execution_count": 14,
   "metadata": {},
   "outputs": [
    {
     "name": "stdout",
     "output_type": "stream",
     "text": [
      "Fetching data ...........  Concluído!\n",
      "Gerando kml ...........  Concluído!\n"
     ]
    }
   ],
   "source": [
    "create_kml(kml_filename='locais.kml', output_folder='./tests', image_base_paths=['./tests/samples'], recursive=True, verbose=True)"
   ]
  }
 ],
 "metadata": {
  "kernelspec": {
   "display_name": "Python 3 (ipykernel)",
   "language": "python",
   "name": "python3"
  },
  "language_info": {
   "codemirror_mode": {
    "name": "ipython",
    "version": 3
   },
   "file_extension": ".py",
   "mimetype": "text/x-python",
   "name": "python",
   "nbconvert_exporter": "python",
   "pygments_lexer": "ipython3",
   "version": "3.8.13"
  }
 },
 "nbformat": 4,
 "nbformat_minor": 4
}
