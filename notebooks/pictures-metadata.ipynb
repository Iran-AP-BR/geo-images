{
 "cells": [
  {
   "cell_type": "markdown",
   "metadata": {},
   "source": [
    "# Extração de metadados de arquivos de imagens  "
   ]
  },
  {
   "cell_type": "code",
   "execution_count": 1,
   "metadata": {},
   "outputs": [],
   "source": [
    "from PIL import Image, JpegImagePlugin\n",
    "from PIL.ExifTags import TAGS\n",
    "from pillow_heif import register_heif_opener\n",
    "import piexif\n",
    "import pyproj\n",
    "from pathlib import Path\n",
    "import os\n",
    "from simplekml import Kml, Style, Color\n",
    "import requests\n",
    "\n",
    "register_heif_opener()"
   ]
  },
  {
   "cell_type": "markdown",
   "metadata": {},
   "source": [
    "## Função `get_image_aspect_ratio(caminho | Image)`\n",
    "> Identifica a relação de aspecto da imagem"
   ]
  },
  {
   "cell_type": "code",
   "execution_count": 2,
   "metadata": {},
   "outputs": [],
   "source": [
    "def get_image_aspect_ratio(img_path):   \n",
    "    image = Image.open(img_path) if type(img_path) == str else img_path\n",
    "    image_aspect_ratio = image.width/image.height\n",
    "    \n",
    "    return image_aspect_ratio"
   ]
  },
  {
   "cell_type": "markdown",
   "metadata": {},
   "source": [
    "## Função `copy_image(caminho_de_origem, caminho_destino, format_da_imagem='jpeg', extensão_do_arquivo='jpg')`  \n",
    "> Copia a imagem para a pasta de destino e converte para o formato indicado"
   ]
  },
  {
   "cell_type": "code",
   "execution_count": 3,
   "metadata": {},
   "outputs": [],
   "source": [
    "def copy_image(img_path, target_path, image_format='JPEG', image_extension='jpg'):\n",
    "    output_image_filename = f'{Path(img_path).stem}.{image_extension}'\n",
    "    target_file = f'{target_path}/{output_image_filename}'\n",
    "    image = Image.open(img_path)\n",
    "    image.save(target_file, image_format, exif=image.info.get('exif'))"
   ]
  },
  {
   "cell_type": "markdown",
   "metadata": {},
   "source": [
    "## Função `converter(coordenadas, sinal= 1 | -1)` \n",
    "> Converte as coordenadas extraídas dos metadados da foto para o formato graus decimais "
   ]
  },
  {
   "cell_type": "code",
   "execution_count": 4,
   "metadata": {},
   "outputs": [],
   "source": [
    "def converter(coord, signal=1):\n",
    "    graus = coord[0][0]/coord[0][1]\n",
    "    minutos = coord[1][0]/coord[1][1]\n",
    "    segundos = coord[2][0]/coord[2][1]\n",
    "    return (graus + minutos/60 + segundos/3600) * signal"
   ]
  },
  {
   "cell_type": "markdown",
   "metadata": {},
   "source": [
    "## Função `exif_to_tag(exif_dict)`  \n",
    "> Converte o dicionário exif em um dicionário com tags exif"
   ]
  },
  {
   "cell_type": "code",
   "execution_count": 5,
   "metadata": {},
   "outputs": [],
   "source": [
    "def exif_to_tag(exif_dict):\n",
    "    codec = 'ISO-8859-1'\n",
    "    exif_tag_dict = {}\n",
    "    thumbnail = exif_dict.pop('thumbnail')\n",
    "    exif_tag_dict['thumbnail'] = thumbnail.decode(codec) if thumbnail else None\n",
    "\n",
    "    for ifd in exif_dict:\n",
    "        exif_tag_dict[ifd] = {}\n",
    "        for tag in exif_dict[ifd]:\n",
    "            try:\n",
    "                element = exif_dict[ifd][tag].decode(codec)\n",
    "\n",
    "            except AttributeError:\n",
    "                element = exif_dict[ifd][tag]\n",
    "\n",
    "            exif_tag_dict[ifd][piexif.TAGS[ifd][tag][\"name\"]] = element\n",
    "\n",
    "    return exif_tag_dict"
   ]
  },
  {
   "cell_type": "markdown",
   "metadata": {},
   "source": [
    "## Função `extract_metadata(img_path | Image)`  \n",
    "> Extrai metadados da foto"
   ]
  },
  {
   "cell_type": "code",
   "execution_count": 6,
   "metadata": {},
   "outputs": [],
   "source": [
    "def extract_metadata(img_path):\n",
    "    image = Image.open(img_path) if type(img_path) == str else img_path\n",
    "    exif_dict = piexif.load(image.info.get('exif'))\n",
    "    return exif_to_tag(exif_dict)"
   ]
  },
  {
   "cell_type": "markdown",
   "metadata": {},
   "source": [
    "## Função `extract_gps(exif_tag_dict)`  \n",
    "> Extrai informações de GPS registradas nos metadados da foto"
   ]
  },
  {
   "cell_type": "code",
   "execution_count": 7,
   "metadata": {},
   "outputs": [],
   "source": [
    "def extract_gps(exif_tag_dict):\n",
    "    #gps = exif_tag_dict['GPS']\n",
    "    coordinates = None\n",
    "    gps = exif_tag_dict.get('GPS')\n",
    "    if gps:\n",
    "        latitude = converter(gps['GPSLatitude'], 1 if gps['GPSLatitudeRef'].upper() == 'N' else -1)\n",
    "        longitude = converter(gps['GPSLongitude'], -1 if gps['GPSLongitudeRef'].upper() == 'W' else 1)\n",
    "        altitude = gps['GPSAltitude'][0]/gps['GPSAltitude'][1]\n",
    "        coordinates = (round(longitude, 6), round(latitude, 6), round(altitude, 3))\n",
    "    \n",
    "    return coordinates"
   ]
  },
  {
   "cell_type": "markdown",
   "metadata": {},
   "source": [
    "## Função `extract_datatime(exif_tag_dict)`  \n",
    "> Extrai informações de data e hora registradas nos metadados da foto"
   ]
  },
  {
   "cell_type": "code",
   "execution_count": 8,
   "metadata": {},
   "outputs": [],
   "source": [
    "def extract_datatime(exif_tag_dict):\n",
    "    return exif_tag_dict['Exif']['DateTimeOriginal']"
   ]
  },
  {
   "cell_type": "markdown",
   "metadata": {},
   "source": [
    "## Função `utm(coordinates)`  \n",
    "> Converte coordenadas geográficas em coordenadas UTM. Nesse caso a altitude é ignorada."
   ]
  },
  {
   "cell_type": "code",
   "execution_count": 9,
   "metadata": {},
   "outputs": [],
   "source": [
    "def utm(coordinates):\n",
    "\n",
    "    def zone(coordinates):\n",
    "        if 56 <= coordinates[1] < 64 and 3 <= coordinates[0] < 12:\n",
    "            return 32\n",
    "        if 72 <= coordinates[1] < 84 and 0 <= coordinates[0] < 42:\n",
    "            if coordinates[0] < 9:\n",
    "                return 31\n",
    "            elif coordinates[0] < 21:\n",
    "                return 33\n",
    "            elif coordinates[0] < 33:\n",
    "                return 35\n",
    "            return 37\n",
    "        return int((coordinates[0] + 180) / 6) + 1\n",
    "\n",
    "\n",
    "    def letter(coordinates):\n",
    "        return 'CDEFGHJKLMNPQRSTUVWXX'[int((coordinates[1] + 80) / 8)]\n",
    "\n",
    "    utm_coordinates = None\n",
    "    if coordinates:\n",
    "        _projections = {}\n",
    "\n",
    "        z = zone(coordinates)\n",
    "        l = letter(coordinates)\n",
    "        if z not in _projections:\n",
    "            _projections[z] = pyproj.Proj(proj='utm', zone=z, ellps='aust_SA')\n",
    "\n",
    "        x, y = _projections[z](coordinates[0], coordinates[1])\n",
    "        if y < 0:\n",
    "            y += 10000000\n",
    "        utm_coordinates = (z, l, round(x, 2), round(y, 2))\n",
    "    \n",
    "    return utm_coordinates"
   ]
  },
  {
   "cell_type": "markdown",
   "metadata": {},
   "source": [
    "## Função `get_files(base_path, recursive=False)`  \n",
    "> Coleta os arquivos de image presentes nos diretórios indicados em base_path (str ou list). Também faz busca recursiva, se `recursive=True`  "
   ]
  },
  {
   "cell_type": "code",
   "execution_count": 10,
   "metadata": {},
   "outputs": [],
   "source": [
    "def get_files(base_path, recursive=False):\n",
    "    files = []\n",
    "    if type(base_path) is list:\n",
    "        for bp in base_path:\n",
    "            files += get_files(bp, recursive=recursive)\n",
    "    else:\n",
    "        for filename in os.listdir(base_path):\n",
    "            path = os.path.join(base_path, filename)\n",
    "            if os.path.isfile(path):\n",
    "                if Path(path).suffix in ['.jpg', '.jpeg', '.heic']:\n",
    "                    files += [path]\n",
    "            elif recursive:\n",
    "                files += get_files(path, recursive=recursive)\n",
    "            \n",
    "    return files"
   ]
  },
  {
   "cell_type": "markdown",
   "metadata": {},
   "source": [
    "## Função `fetch_data(image_base_paths, recursive=False, verbose=False)`  \n",
    "> Extrai metadados dados dos arquivo das images indicadas e retorna os dados em formato dicionário com o nome do arquivo (sem extensão) como chave (point_name)."
   ]
  },
  {
   "cell_type": "code",
   "execution_count": 11,
   "metadata": {},
   "outputs": [],
   "source": [
    "def fetch_data(image_base_paths, recursive=False, verbose=False):\n",
    "    data = {}\n",
    "    paths = get_files(image_base_paths, recursive=recursive)\n",
    "    for p, file in enumerate(paths):\n",
    "        \n",
    "        if verbose:\n",
    "            print('Coletando dados ........... ', f'{round(p/len(paths)*100, 2)}%', end='\\r')\n",
    "        \n",
    "        point_name = Path(file).stem\n",
    "        metadata = extract_metadata(file)\n",
    "        geo_coord = extract_gps(metadata)\n",
    "        date_time = extract_datatime(metadata)\n",
    "        utm_coord = utm(geo_coord)\n",
    "        image_aspect_ratio = get_image_aspect_ratio(file)\n",
    "        \n",
    "        item = {}        \n",
    "        item['file_path'] = file\n",
    "        item['longitude'] = geo_coord[0] if geo_coord else None\n",
    "        item['latitude'] = geo_coord[1] if geo_coord else None\n",
    "        item['altitude'] = geo_coord[2] if geo_coord else None\n",
    "        item['utm_zone'] = utm_coord[0] if utm_coord else None\n",
    "        item['utm_letter'] = utm_coord[1] if utm_coord else None\n",
    "        item['utm_x'] = utm_coord[2] if utm_coord else None\n",
    "        item['utm_y'] = utm_coord[3] if utm_coord else None\n",
    "        item['image_aspect_ratio'] = image_aspect_ratio\n",
    "        item['date_time'] = date_time\n",
    "        \n",
    "        data[point_name] = item\n",
    "        \n",
    "    if verbose:\n",
    "        print('Coletando dados ........... ', 'Concluído!')\n",
    "    \n",
    "    return data\n"
   ]
  },
  {
   "cell_type": "markdown",
   "metadata": {},
   "source": [
    "## Função `create_kml(kml_filename, image_base_paths, recursive=False, output_folder='.', images_folder_name = 'images', verbose=False)`  \n",
    "> Cria um arquivo kml com base nas images indicadas em image_base_paths e grava o arquivo em output_folder junto com o diretório images_folder_name, no qual as imagens convertidas para o formato padrão são copiadas."
   ]
  },
  {
   "cell_type": "code",
   "execution_count": 12,
   "metadata": {},
   "outputs": [],
   "source": [
    "import logging\n",
    "\n",
    "def create_kml(kml_filename, image_base_paths, recursive=False, output_folder='.', \n",
    "               images_folder_name = 'images', verbose=False):\n",
    "\n",
    "    logging.basicConfig(filename=f'{output_folder}/create_kml.log', filemode='w', \n",
    "                    format='%(asctime)s %(levelname)s %(message)s', datefmt='%Y-%m-%d %H:%M:%S',\n",
    "                    level=logging.INFO)\n",
    "    \n",
    "    kml_output_path = f'{output_folder}/{kml_filename}'\n",
    "    output_images_folder = f'{output_folder}/{images_folder_name}'\n",
    " \n",
    "    kml = Kml()\n",
    "    style = Style()\n",
    "    exception = False\n",
    "    \n",
    "    try:\n",
    "        \n",
    "        logging.info('Gerando kml ...')\n",
    "        \n",
    "        Path(output_images_folder).mkdir(parents=True, exist_ok=True)\n",
    "        if any(Path(output_images_folder).iterdir()):\n",
    "            raise Exception(f'Diretório \"{output_images_folder}\" deve estar vazio!')\n",
    "\n",
    "        icon_href = 'http://maps.google.com/mapfiles/kml/paddle/purple-circle.png'\n",
    "        if requests.get(icon_href).status_code == 200:\n",
    "            style.iconstyle.icon.href = icon_href\n",
    "\n",
    "        metadata = fetch_data(image_base_paths=image_base_paths, \n",
    "                              recursive=recursive, verbose=verbose)\n",
    "\n",
    "        for p, point_name in enumerate(metadata):\n",
    "\n",
    "            file_path = metadata[point_name]['file_path']\n",
    "            if file_path.startswith(f'{output_images_folder}/'):                \n",
    "                raise Exception('Arquivo de origem não pode estar no diretório destino!')\n",
    "\n",
    "            item = metadata.get(point_name)\n",
    "            geo_coord = (item.get('longitude'), item.get('latitude'), item.get('altitude'))\n",
    "            if not any(coord is None for coord in geo_coord):\n",
    "                output_image_filename = f'{Path(file_path).stem}.jpg'\n",
    "                image_aspect_ratio = item.get('image_aspect_ratio')\n",
    "                date_time = item.get('date_time')\n",
    "\n",
    "                copy_image(file_path, output_images_folder)\n",
    "\n",
    "                point = kml.newpoint(name=f'{point_name}', coords=[geo_coord])\n",
    "                point.style = style\n",
    "                if image_aspect_ratio > 1:\n",
    "                    image_width = 1200\n",
    "                    image_height = round(image_width/image_aspect_ratio)\n",
    "                else:\n",
    "                    image_height = 1200\n",
    "                    image_width = round(image_height*image_aspect_ratio)\n",
    "\n",
    "                point.description = f'''<h2 style=\"background-color: #7700bb; color: #ffffff\">\n",
    "                                            Data/Hora: {date_time}\n",
    "                                        </h2>\n",
    "                                        <img \n",
    "                                          src=\"{images_folder_name}/{output_image_filename}\" \n",
    "                                          alt=\"picture\" \n",
    "                                          width=\"{image_width}\" \n",
    "                                          height=\"{image_height}\" \n",
    "                                          align=\"left\" />;'''\n",
    "\n",
    "                logging.info(f'{point_name}: ok')\n",
    "\n",
    "            else:\n",
    "                logging.critical(f'{point_name}: imagem sem informações de GPS')\n",
    "\n",
    "            if verbose:\n",
    "                print('Gerando kml ........... ', \n",
    "                      f'{round((p+1)/len(metadata.keys())*100, 2)}%', end='\\r')\n",
    "    \n",
    "        print('\\n')\n",
    "        \n",
    "    except Exception as e:\n",
    "        exception = True\n",
    "        if verbose:\n",
    "            print(str(e))\n",
    "            \n",
    "        logging.critical(str(e))\n",
    "    \n",
    "    kml.save(kml_output_path)\n",
    "\n",
    "    msg = ''\n",
    "    if kml.allgeometries:\n",
    "        if len(kml.allgeometries) < len(metadata.keys()):\n",
    "            msg = f'Apenas {len(kml.allgeometries)} de {len(metadata.keys())} \\\n",
    "                    imagens com informações de GPS.'\n",
    "            \n",
    "            logging.warning(msg)\n",
    "        else:\n",
    "            msg = 'Informações de GPS coletadas de todas as imagens.'\n",
    "            logging.info(msg)\n",
    "    elif not exception:\n",
    "        msg = 'Nenhuma imagem com informações de GPS!'\n",
    "        logging.warning(msg)\n",
    "\n",
    "    if verbose:\n",
    "        print(msg)\n"
   ]
  },
  {
   "cell_type": "markdown",
   "metadata": {},
   "source": [
    "## Teste de execução da função `fetch_data()`  "
   ]
  },
  {
   "cell_type": "code",
   "execution_count": 13,
   "metadata": {},
   "outputs": [
    {
     "name": "stdout",
     "output_type": "stream",
     "text": [
      "Coletando dados ...........  Concluído!\n"
     ]
    },
    {
     "data": {
      "text/plain": [
       "{'IMG_20210924_113255296': {'file_path': './tests/samples/IMG_20210924_113255296.jpg',\n",
       "  'longitude': -51.735524,\n",
       "  'latitude': -0.183027,\n",
       "  'altitude': 12.253,\n",
       "  'utm_zone': 22,\n",
       "  'utm_letter': 'M',\n",
       "  'utm_x': 418152.45,\n",
       "  'utm_y': 9979768.27,\n",
       "  'image_aspect_ratio': 1.3333333333333333,\n",
       "  'date_time': '2021:09:24 11:32:55'},\n",
       " 'IMG_20210916_140829767': {'file_path': './tests/samples/IMG_20210916_140829767.jpg',\n",
       "  'longitude': -50.9737,\n",
       "  'latitude': 2.486679,\n",
       "  'altitude': 21.602,\n",
       "  'utm_zone': 22,\n",
       "  'utm_letter': 'N',\n",
       "  'utm_x': 502923.8,\n",
       "  'utm_y': 274855.45,\n",
       "  'image_aspect_ratio': 1.3333333333333333,\n",
       "  'date_time': '2021:09:16 14:08:29'},\n",
       " 'IMG_20210924_104917945': {'file_path': './tests/samples/IMG_20210924_104917945.jpg',\n",
       "  'longitude': -51.728321,\n",
       "  'latitude': -0.085532,\n",
       "  'altitude': 15.909,\n",
       "  'utm_zone': 22,\n",
       "  'utm_letter': 'M',\n",
       "  'utm_x': 418953.71,\n",
       "  'utm_y': 9990545.34,\n",
       "  'image_aspect_ratio': 1.3333333333333333,\n",
       "  'date_time': '2021:09:24 10:49:17'},\n",
       " 'IMG_20210916_112512130': {'file_path': './tests/samples/IMG_20210916_112512130.jpg',\n",
       "  'longitude': -51.369515,\n",
       "  'latitude': 2.727482,\n",
       "  'altitude': 7.051,\n",
       "  'utm_zone': 22,\n",
       "  'utm_letter': 'N',\n",
       "  'utm_x': 458928.07,\n",
       "  'utm_y': 301478.34,\n",
       "  'image_aspect_ratio': 1.3333333333333333,\n",
       "  'date_time': '2021:09:16 11:25:12'},\n",
       " 'IMG_20210924_100040106': {'file_path': './tests/samples/IMG_20210924_100040106.jpg',\n",
       "  'longitude': -51.651758,\n",
       "  'latitude': 0.001696,\n",
       "  'altitude': 13.25,\n",
       "  'utm_zone': 22,\n",
       "  'utm_letter': 'N',\n",
       "  'utm_x': 427473.82,\n",
       "  'utm_y': 187.47,\n",
       "  'image_aspect_ratio': 1.3333333333333333,\n",
       "  'date_time': '2021:09:24 10:00:40'}}"
      ]
     },
     "execution_count": 13,
     "metadata": {},
     "output_type": "execute_result"
    }
   ],
   "source": [
    "fetch_data(image_base_paths=['./tests/samples'], recursive=True, verbose=True)"
   ]
  },
  {
   "cell_type": "markdown",
   "metadata": {},
   "source": [
    "## Teste de execução da função `create_kml()`  "
   ]
  },
  {
   "cell_type": "code",
   "execution_count": 14,
   "metadata": {},
   "outputs": [
    {
     "name": "stdout",
     "output_type": "stream",
     "text": [
      "Coletando dados ...........  Concluído!\n",
      "Gerando kml ...........  100.0%\n",
      "\n",
      "Informações de GPS coletadas de todas as imagens.\n"
     ]
    }
   ],
   "source": [
    "create_kml(kml_filename='locais.kml', output_folder='./tests', image_base_paths=['./tests/samples'], recursive=True, verbose=True)"
   ]
  }
 ],
 "metadata": {
  "kernelspec": {
   "display_name": "Python 3 (ipykernel)",
   "language": "python",
   "name": "python3"
  },
  "language_info": {
   "codemirror_mode": {
    "name": "ipython",
    "version": 3
   },
   "file_extension": ".py",
   "mimetype": "text/x-python",
   "name": "python",
   "nbconvert_exporter": "python",
   "pygments_lexer": "ipython3",
   "version": "3.8.13"
  },
  "vscode": {
   "interpreter": {
    "hash": "916dbcbb3f70747c44a77c7bcd40155683ae19c65e1c03b4aa3499c5328201f1"
   }
  }
 },
 "nbformat": 4,
 "nbformat_minor": 4
}
